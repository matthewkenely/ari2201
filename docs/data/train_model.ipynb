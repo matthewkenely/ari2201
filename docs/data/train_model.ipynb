{
 "cells": [
  {
   "cell_type": "code",
   "execution_count": 1,
   "metadata": {},
   "outputs": [],
   "source": [
    "import pandas as pd\n",
    "import numpy as np\n",
    "\n",
    "import spacy\n",
    "import random\n",
    "from spacy.util import minibatch, compounding\n",
    "from spacy.gold import biluo_tags_from_offsets\n",
    "\n",
    "from sklearn.model_selection import train_test_split\n",
    "from sklearn.metrics import classification_report, confusion_matrix, accuracy_score"
   ]
  },
  {
   "cell_type": "code",
   "execution_count": 112,
   "metadata": {},
   "outputs": [],
   "source": [
    "df = pd.read_csv('./location_articles.csv')"
   ]
  },
  {
   "cell_type": "code",
   "execution_count": 113,
   "metadata": {},
   "outputs": [
    {
     "name": "stderr",
     "output_type": "stream",
     "text": [
      "C:\\Users\\Matthew Kenely\\AppData\\Roaming\\Python\\Python37\\site-packages\\spacy\\language.py:639: UserWarning: [W033] Training a new parser or NER using a model with an empty lexeme normalization table. This may degrade the performance to some degree. If this is intentional or this language doesn't have a normalization table, please ignore this warning.\n",
      "  **kwargs\n",
      "C:\\Users\\Matthew Kenely\\AppData\\Roaming\\Python\\Python37\\site-packages\\spacy\\language.py:639: UserWarning: [W034] Please install the package spacy-lookups-data in order to include the default lexeme normalization table for the language 'en'.\n",
      "  **kwargs\n",
      "C:\\Users\\Matthew Kenely\\AppData\\Roaming\\Python\\Python37\\site-packages\\spacy\\language.py:482: UserWarning: [W030] Some entities could not be aligned in the text \"Mass Rally fi Pjazza San Ġorġ indirizzat mill-Kap ...\" with entities \"[(293, 301, 'LOC'), (2456, 2464, 'LOC'), (2566, 25...\". Use `spacy.gold.biluo_tags_from_offsets(nlp.make_doc(text), entities)` to check the alignment. Misaligned entities (with BILUO tag '-') will be ignored during training.\n",
      "  gold = GoldParse(doc, **gold)\n",
      "C:\\Users\\Matthew Kenely\\AppData\\Roaming\\Python\\Python37\\site-packages\\spacy\\language.py:482: UserWarning: [W030] Some entities could not be aligned in the text \"Il-Kap tal-Partit Nazzjonalista Bernard Grech inte...\" with entities \"[(74, 84, 'LOC')]\". Use `spacy.gold.biluo_tags_from_offsets(nlp.make_doc(text), entities)` to check the alignment. Misaligned entities (with BILUO tag '-') will be ignored during training.\n",
      "  gold = GoldParse(doc, **gold)\n",
      "C:\\Users\\Matthew Kenely\\AppData\\Roaming\\Python\\Python37\\site-packages\\spacy\\language.py:482: UserWarning: [W030] Some entities could not be aligned in the text \"A dead horse has remained uncollected in a field i...\" with entities \"[(52, 57, 'LOC'), (734, 739, 'LOC'), (3012, 3020, ...\". Use `spacy.gold.biluo_tags_from_offsets(nlp.make_doc(text), entities)` to check the alignment. Misaligned entities (with BILUO tag '-') will be ignored during training.\n",
      "  gold = GoldParse(doc, **gold)\n",
      "C:\\Users\\Matthew Kenely\\AppData\\Roaming\\Python\\Python37\\site-packages\\spacy\\language.py:482: UserWarning: [W030] Some entities could not be aligned in the text \"🔵 LIVE Iltaqa ’ mal-kandidati tal-1 Distrett fil-Ħ...\" with entities \"[(49, 55, 'LOC'), (2568, 2576, 'LOC'), (2577, 2585...\". Use `spacy.gold.biluo_tags_from_offsets(nlp.make_doc(text), entities)` to check the alignment. Misaligned entities (with BILUO tag '-') will be ignored during training.\n",
      "  gold = GoldParse(doc, **gold)\n",
      "C:\\Users\\Matthew Kenely\\AppData\\Roaming\\Python\\Python37\\site-packages\\spacy\\language.py:482: UserWarning: [W030] Some entities could not be aligned in the text \"Attività Politika Taħt it-Tinda fil-MostaMiegħek G...\" with entities \"[(36, 41, 'LOC')]\". Use `spacy.gold.biluo_tags_from_offsets(nlp.make_doc(text), entities)` to check the alignment. Misaligned entities (with BILUO tag '-') will be ignored during training.\n",
      "  gold = GoldParse(doc, **gold)\n",
      "C:\\Users\\Matthew Kenely\\AppData\\Roaming\\Python\\Python37\\site-packages\\spacy\\language.py:482: UserWarning: [W030] Some entities could not be aligned in the text \"Miegħek f'BirżebbuġaMiegħek Għal Malta 🇲🇹 PN leade...\" with entities \"[(10, 20, 'LOC')]\". Use `spacy.gold.biluo_tags_from_offsets(nlp.make_doc(text), entities)` to check the alignment. Misaligned entities (with BILUO tag '-') will be ignored during training.\n",
      "  gold = GoldParse(doc, **gold)\n",
      "C:\\Users\\Matthew Kenely\\AppData\\Roaming\\Python\\Python37\\site-packages\\spacy\\language.py:482: UserWarning: [W030] Some entities could not be aligned in the text \"The Malta Police Union has decried the “ sub-stand...\" with entities \"[(1755, 1763, 'LOC'), (1784, 1790, 'LOC'), (1791, ...\". Use `spacy.gold.biluo_tags_from_offsets(nlp.make_doc(text), entities)` to check the alignment. Misaligned entities (with BILUO tag '-') will be ignored during training.\n",
      "  gold = GoldParse(doc, **gold)\n",
      "C:\\Users\\Matthew Kenely\\AppData\\Roaming\\Python\\Python37\\site-packages\\spacy\\language.py:482: UserWarning: [W030] Some entities could not be aligned in the text \"If the Labour Party is elected into power on 26 Ma...\" with entities \"[(156, 166, 'LOC'), (645, 655, 'LOC'), (1470, 1480...\". Use `spacy.gold.biluo_tags_from_offsets(nlp.make_doc(text), entities)` to check the alignment. Misaligned entities (with BILUO tag '-') will be ignored during training.\n",
      "  gold = GoldParse(doc, **gold)\n",
      "C:\\Users\\Matthew Kenely\\AppData\\Roaming\\Python\\Python37\\site-packages\\spacy\\language.py:482: UserWarning: [W030] Some entities could not be aligned in the text \"Videos of the routes through which Pope Francis wi...\" with entities \"[(377, 385, 'LOC'), (386, 394, 'LOC'), (420, 428, ...\". Use `spacy.gold.biluo_tags_from_offsets(nlp.make_doc(text), entities)` to check the alignment. Misaligned entities (with BILUO tag '-') will be ignored during training.\n",
      "  gold = GoldParse(doc, **gold)\n",
      "C:\\Users\\Matthew Kenely\\AppData\\Roaming\\Python\\Python37\\site-packages\\spacy\\language.py:482: UserWarning: [W030] Some entities could not be aligned in the text \"Video – The Archdiocese of Malta In the hours prec...\" with entities \"[(528, 536, 'LOC'), (793, 801, 'LOC'), (874, 879, ...\". Use `spacy.gold.biluo_tags_from_offsets(nlp.make_doc(text), entities)` to check the alignment. Misaligned entities (with BILUO tag '-') will be ignored during training.\n",
      "  gold = GoldParse(doc, **gold)\n"
     ]
    },
    {
     "name": "stdout",
     "output_type": "stream",
     "text": [
      "Iteration: 1 Loss: {'ner': 4966.054097899391}\n",
      "Iteration: 2 Loss: {'ner': 350.22466909004163}\n",
      "Iteration: 3 Loss: {'ner': 304.67420678725495}\n",
      "Iteration: 4 Loss: {'ner': 252.50606971857985}\n",
      "Iteration: 5 Loss: {'ner': 275.1590056246673}\n",
      "Iteration: 6 Loss: {'ner': 253.55966510487127}\n",
      "Iteration: 7 Loss: {'ner': 218.1444039745277}\n",
      "Iteration: 8 Loss: {'ner': 171.69634813924912}\n",
      "Iteration: 9 Loss: {'ner': 199.96594203469544}\n",
      "Iteration: 10 Loss: {'ner': 191.4460061674813}\n"
     ]
    }
   ],
   "source": [
    "# Load the base English model\n",
    "nlp = spacy.blank(\"en\")\n",
    "\n",
    "# Create and add the NER pipeline\n",
    "ner = nlp.create_pipe(\"ner\")\n",
    "nlp.add_pipe(ner, last=True)\n",
    "\n",
    "# Define your labels (e.g., \"LOCATION\")\n",
    "labels = ['LOC']\n",
    "\n",
    "# Load and preprocess your training data\n",
    "train_data = []\n",
    "for body, entities in zip(df['body'], df['entities']):\n",
    "    entities = eval(entities)\n",
    "    train_data.append((body, {\"entities\": entities}))\n",
    "\n",
    "# train_data = train_data[:500]\n",
    "\n",
    "# Initialize the NER model with the labels\n",
    "for label in labels:\n",
    "    ner.add_label(label)\n",
    "\n",
    "# Train the NER model\n",
    "optimizer = nlp.begin_training()\n",
    "for itn in range(10):  # Adjust the number of iterations as needed\n",
    "    random.shuffle(train_data)\n",
    "    losses = {}\n",
    "    for text, annotations in train_data:\n",
    "        nlp.update([text], [annotations], drop=0.3, losses=losses)\n",
    "    print(\"Iteration:\", itn+1, \"Loss:\", losses)\n",
    "\n",
    "# Save the trained model\n",
    "nlp.to_disk(\"trained_model\")\n"
   ]
  },
  {
   "cell_type": "code",
   "execution_count": 6,
   "metadata": {},
   "outputs": [
    {
     "name": "stdout",
     "output_type": "stream",
     "text": [
      "[('Valletta', 'LOC')]\n"
     ]
    }
   ],
   "source": [
    "# Load the trained model\n",
    "nlp = spacy.load(\"trained_model\")\n",
    "\n",
    "# Test the trained model on new article text\n",
    "text = \"I'd like to go to Valletta and eat there.\"\n",
    "doc = nlp(text)\n",
    "entities = [(ent.text, ent.label_) for ent in doc.ents]\n",
    "# predict location of text\n",
    "\n",
    "print(entities)"
   ]
  },
  {
   "cell_type": "code",
   "execution_count": 115,
   "metadata": {},
   "outputs": [],
   "source": [
    "test = df.loc[0]"
   ]
  },
  {
   "cell_type": "code",
   "execution_count": 116,
   "metadata": {},
   "outputs": [
    {
     "data": {
      "text/plain": [
       "'In preparation for the solemnity of Pentecost when we celebrate the descent of the Holy Spirit and the birth of the church the traditional devotion of the Easter season the Via Lucis or Way of Light will be prayed at St Joseph the Worker Parish Church Birkirkara on Saturday May 20 at 8pm Everyone is invited to join in the contemplation of these 14 Stations of Light Each gospel passage will be proclaimed in 14 different languages to remind that while different we are all one in the power of the Holy Spirit More information on evangelisationmaltadioceseorg'"
      ]
     },
     "execution_count": 116,
     "metadata": {},
     "output_type": "execute_result"
    }
   ],
   "source": [
    "test.body"
   ]
  },
  {
   "cell_type": "code",
   "execution_count": 117,
   "metadata": {},
   "outputs": [
    {
     "data": {
      "text/plain": [
       "[(252, 262, 'LOC')]"
      ]
     },
     "execution_count": 117,
     "metadata": {},
     "output_type": "execute_result"
    }
   ],
   "source": [
    "eval(test.entities)"
   ]
  },
  {
   "cell_type": "code",
   "execution_count": 118,
   "metadata": {},
   "outputs": [
    {
     "name": "stdout",
     "output_type": "stream",
     "text": [
      "['O', 'O', 'O', 'O', 'O', 'O', 'O', 'O', 'O', 'O', 'O', 'O', 'O', 'O', 'O', 'O', 'O', 'O', 'O', 'O', 'O', 'O', 'O', 'O', 'O', 'O', 'O', 'O', 'O', 'O', 'O', 'O', 'O', 'O', 'O', 'O', 'O', 'O', 'O', 'O', 'O', 'O', 'O', 'O', 'O', 'O', 'U-LOC', 'O', 'O', 'O', 'O', 'O', 'O', 'O', 'O', 'O', 'O', 'O', 'O', 'O', 'O', 'O', 'O', 'O', 'O', 'O', 'O', 'O', 'O', 'O', 'O', 'O', 'O', 'O', 'O', 'O', 'O', 'O', 'O', 'O', 'O', 'O', 'O', 'O', 'O', 'O', 'O', 'O', 'O', 'O', 'O', 'O', 'O', 'O', 'O', 'O', 'O', 'O']\n"
     ]
    }
   ],
   "source": [
    "doc = nlp.make_doc(test.body)\n",
    "tags = biluo_tags_from_offsets(doc, eval(test.entities))\n",
    "print(tags)"
   ]
  },
  {
   "cell_type": "code",
   "execution_count": 3,
   "metadata": {},
   "outputs": [
    {
     "data": {
      "text/plain": [
       "'‘No one believes you’ on hospitals fiasco Grech tells Labour MPs'"
      ]
     },
     "execution_count": 3,
     "metadata": {},
     "output_type": "execute_result"
    }
   ],
   "source": [
    "import string\n",
    "''.join([i for i in '‘No one believes you’ on hospitals fiasco, Grech tells Labour MPs' if i not in string.punctuation])"
   ]
  },
  {
   "cell_type": "code",
   "execution_count": 5,
   "metadata": {},
   "outputs": [],
   "source": [
    "p = string.punctuation"
   ]
  },
  {
   "cell_type": "code",
   "execution_count": 6,
   "metadata": {},
   "outputs": [],
   "source": [
    "p += ';'"
   ]
  },
  {
   "cell_type": "code",
   "execution_count": 15,
   "metadata": {},
   "outputs": [
    {
     "name": "stdout",
     "output_type": "stream",
     "text": [
      "['drug', 'kill']\n"
     ]
    }
   ],
   "source": [
    "with open('filter.txt', 'r') as f:\n",
    "    x = f.readlines()\n",
    "    print([i.strip() for i in x])\n"
   ]
  },
  {
   "cell_type": "code",
   "execution_count": 20,
   "metadata": {},
   "outputs": [],
   "source": [
    "import matplotlib.pyplot as plt"
   ]
  },
  {
   "cell_type": "code",
   "execution_count": 2,
   "metadata": {},
   "outputs": [],
   "source": [
    "df = pd.read_csv('./location_articles.csv')"
   ]
  },
  {
   "cell_type": "code",
   "execution_count": 12,
   "metadata": {},
   "outputs": [],
   "source": [
    "all_locs = []\n",
    "\n",
    "for l in df['location']:\n",
    "    for i in eval(l):\n",
    "        all_locs.append(i)\n"
   ]
  },
  {
   "cell_type": "code",
   "execution_count": 13,
   "metadata": {},
   "outputs": [],
   "source": [
    "loc_freqs = {}\n",
    "\n",
    "for i in all_locs:\n",
    "    if i in loc_freqs:\n",
    "        loc_freqs[i] += 1\n",
    "    else:\n",
    "        loc_freqs[i] = 1\n",
    "        \n",
    "\n"
   ]
  },
  {
   "cell_type": "code",
   "execution_count": 36,
   "metadata": {},
   "outputs": [
    {
     "data": {
      "image/png": "[encoded data removed]",
      "text/plain": [
       "<Figure size 1200x600 with 1 Axes>"
      ]
     },
     "metadata": {},
     "output_type": "display_data"
    }
   ],
   "source": [
    "loc_freqs = {k: v for k, v in sorted(loc_freqs.items(), key=lambda item: item[1], reverse=True)}\n",
    "\n",
    "# bar plot plt\n",
    "plt.bar(list(loc_freqs.keys())[:10], list(loc_freqs.values())[:10])\n",
    "\n",
    "# rotate x axis labels\n",
    "# plt.xticks(rotation=90)\n",
    "\n",
    "# increase fig size\n",
    "plt.rcParams[\"figure.figsize\"] = (12, 6)\n",
    "\n",
    "plt.show()"
   ]
  }
 ],
 "metadata": {
  "kernelspec": {
   "display_name": "base",
   "language": "python",
   "name": "python3"
  },
  "language_info": {
   "codemirror_mode": {
    "name": "ipython",
    "version": 3
   },
   "file_extension": ".py",
   "mimetype": "text/x-python",
   "name": "python",
   "nbconvert_exporter": "python",
   "pygments_lexer": "ipython3",
   "version": "3.7.9"
  },
  "orig_nbformat": 4
 },
 "nbformat": 4,
 "nbformat_minor": 2
}
